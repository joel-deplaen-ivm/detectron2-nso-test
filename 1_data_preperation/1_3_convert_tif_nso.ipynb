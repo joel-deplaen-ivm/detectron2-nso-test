{
 "cells": [
  {
   "cell_type": "code",
   "execution_count": 1,
   "id": "6db215a1",
   "metadata": {},
   "outputs": [],
   "source": [
    "import os\n",
    "import json\n",
    "import geojson\n",
    "import numpy as np\n",
    "import pandas as pd\n",
    "from osgeo import gdal\n",
    "import multiprocessing\n",
    "from sklearn.model_selection import train_test_split\n",
    "import sys\n",
    "sys.path.append('/scistor/ivm/ako268/nso_repo/detectron2-nso-test/1_data_preperation')\n",
    "from utils.functions import grab_certain_file, tif_to_png\n",
    "\n",
    "root = \"/scistor/ivm/project/NSO/timeseries_50_baseline\"\n",
    "big_tiles_folder = root + \"/big_tiles\"\n",
    "small_tiles_folder = root + \"/small_tiles\"\n",
    "annotation_path = root + \"/annotations_shp/fixed_substations_NL_annotations.shp\"\n",
    "json_folder = root + \"/geojsons\""
   ]
  },
  {
   "cell_type": "code",
   "execution_count": 18,
   "id": "5e3f231c",
   "metadata": {},
   "outputs": [
    {
     "name": "stdout",
     "output_type": "stream",
     "text": [
      "using 6 CPUs\n"
     ]
    },
    {
     "name": "stderr",
     "output_type": "stream",
     "text": [
      "Converting TIF images to PNG to /scistor/ivm/project/NSO/timeseries_50_baseline/small_tiles_png:  19%|█▊        | 748/4019 [07:31<31:28,  1.73it/s]  "
     ]
    }
   ],
   "source": [
    "small_tif_files = grab_certain_file(\".tif\", small_tiles_folder)\n",
    "\n",
    "num_processes = 6\n",
    "print('using', num_processes, 'CPUs')\n",
    "pool = multiprocessing.Pool(processes=num_processes)\n",
    "\n",
    "# Split the list of TIF files into chunks for parallel processing\n",
    "chunk_size = len(small_tif_files) // num_processes\n",
    "tif_file_chunks = [small_tif_files[i:i+chunk_size] for i in range(0, len(small_tif_files), chunk_size)]\n",
    "\n",
    "# Map the conversion function to each chunk of TIF files using multiple processes\n",
    "pool.starmap(tif_to_png, [(chunk, small_tiles_folder, dest) for chunk in tif_file_chunks])\n",
    "\n",
    "pool.close()\n",
    "pool.join()\n",
    "pool.terminate()\n",
    "print('done')\n"
   ]
  }
 ],
 "metadata": {
  "kernelspec": {
   "display_name": "Python 3 (ipykernel)",
   "language": "python",
   "name": "python3"
  },
  "vscode": {
   "interpreter": {
    "hash": "31f2aee4e71d21fbe5cf8b01ff0e069b9275f58929596ceb00d14d90e3e16cd6"
   }
  }
 },
 "nbformat": 4,
 "nbformat_minor": 5
}
