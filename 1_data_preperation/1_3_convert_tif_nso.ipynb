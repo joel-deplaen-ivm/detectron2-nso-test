{
 "cells": [
  {
   "cell_type": "code",
   "execution_count": 5,
   "id": "6db215a1",
   "metadata": {},
   "outputs": [],
   "source": [
    "import os\n",
    "import json\n",
    "import geojson\n",
    "import numpy as np\n",
    "import pandas as pd\n",
    "from osgeo import gdal\n",
    "import multiprocessing\n",
    "from sklearn.model_selection import train_test_split\n",
    "\n",
    "# custom functions\n",
    "import sys\n",
    "subdirectory = '/scistor/ivm/ako268/nso_repo/detectron2-nso-test/1_data_preperation'\n",
    "sys.path.append(subdirectory)\n",
    "from utils.functions import grab_certain_file, tif_to_png\n"
   ]
  },
  {
   "cell_type": "code",
   "execution_count": 9,
   "id": "5e3f231c",
   "metadata": {},
   "outputs": [
    {
     "name": "stderr",
     "output_type": "stream",
     "text": [
      "Converting TIF images to PNG to /scistor/ivm/project/NSO/timeseries_50/data_prep/small_tiles_png:   1%|          | 33/6086 [03:04<9:23:25,  5.58s/it]]\n",
      "Process ForkPoolWorker-87:\n",
      "Traceback (most recent call last):\n",
      "  File \"/scistor/ivm/ako268/miniconda3/envs/detectron_env/lib/python3.8/multiprocessing/process.py\", line 315, in _bootstrap\n",
      "    self.run()\n",
      "  File \"/scistor/ivm/ako268/miniconda3/envs/detectron_env/lib/python3.8/multiprocessing/process.py\", line 108, in run\n",
      "    self._target(*self._args, **self._kwargs)\n",
      "  File \"/scistor/ivm/ako268/miniconda3/envs/detectron_env/lib/python3.8/multiprocessing/pool.py\", line 125, in worker\n",
      "    result = (True, func(*args, **kwds))\n",
      "  File \"/scistor/ivm/ako268/miniconda3/envs/detectron_env/lib/python3.8/multiprocessing/pool.py\", line 51, in starmapstar\n",
      "    return list(itertools.starmap(args[0], args[1]))\n",
      "  File \"/scistor/ivm/ako268/nso_repo/detectron2-nso-test/1_data_preperation/utils/functions.py\", line 100, in tif_to_png\n",
      "    for item in tqdm(files, desc = f\"Converting TIF images to PNG to {dst}\", ncols=150, bar_format=\"{l_bar}{bar:10}{r_bar}\"):\n",
      "  File \"/scistor/ivm/ako268/miniconda3/envs/detectron_env/lib/python3.8/site-packages/tqdm/std.py\", line 1188, in __iter__\n",
      "    self.update(n - last_print_n)\n",
      "  File \"/scistor/ivm/ako268/miniconda3/envs/detectron_env/lib/python3.8/site-packages/tqdm/std.py\", line 1239, in update\n",
      "    self.refresh(lock_args=self.lock_args)\n",
      "  File \"/scistor/ivm/ako268/miniconda3/envs/detectron_env/lib/python3.8/site-packages/tqdm/std.py\", line 1344, in refresh\n",
      "    self.display()\n",
      "  File \"/scistor/ivm/ako268/miniconda3/envs/detectron_env/lib/python3.8/site-packages/tqdm/std.py\", line 1492, in display\n",
      "    self.sp(self.__str__() if msg is None else msg)\n",
      "  File \"/scistor/ivm/ako268/miniconda3/envs/detectron_env/lib/python3.8/site-packages/tqdm/std.py\", line 347, in print_status\n",
      "    fp_write('\\r' + s + (' ' * max(last_len[0] - len_s, 0)))\n",
      "  File \"/scistor/ivm/ako268/miniconda3/envs/detectron_env/lib/python3.8/site-packages/tqdm/std.py\", line 340, in fp_write\n",
      "    fp.write(str(s))\n",
      "  File \"/scistor/ivm/ako268/miniconda3/envs/detectron_env/lib/python3.8/site-packages/tqdm/utils.py\", line 127, in inner\n",
      "    return func(*args, **kwargs)\n",
      "  File \"/scistor/ivm/ako268/miniconda3/envs/detectron_env/lib/python3.8/site-packages/ipykernel/iostream.py\", line 608, in write\n",
      "    self.pub_thread.schedule(self._flush)\n",
      "KeyboardInterrupt\n",
      "  File \"/scistor/ivm/ako268/miniconda3/envs/detectron_env/lib/python3.8/site-packages/ipykernel/iostream.py\", line 215, in schedule\n",
      "    f()\n",
      "  File \"/scistor/ivm/ako268/miniconda3/envs/detectron_env/lib/python3.8/site-packages/ipykernel/iostream.py\", line 566, in _flush\n",
      "    self.session.send(\n",
      "  File \"/scistor/ivm/ako268/miniconda3/envs/detectron_env/lib/python3.8/site-packages/jupyter_client/session.py\", line 861, in send\n",
      "    stream.send_multipart(to_send, copy=copy)\n",
      "  File \"/scistor/ivm/ako268/miniconda3/envs/detectron_env/lib/python3.8/site-packages/ipykernel/iostream.py\", line 222, in send_multipart\n",
      "    self.schedule(lambda: self._really_send(*args, **kwargs))\n",
      "  File \"/scistor/ivm/ako268/miniconda3/envs/detectron_env/lib/python3.8/site-packages/ipykernel/iostream.py\", line 215, in schedule\n",
      "    f()\n",
      "  File \"/scistor/ivm/ako268/miniconda3/envs/detectron_env/lib/python3.8/site-packages/ipykernel/iostream.py\", line 222, in <lambda>\n",
      "    self.schedule(lambda: self._really_send(*args, **kwargs))\n",
      "  File \"/scistor/ivm/ako268/miniconda3/envs/detectron_env/lib/python3.8/site-packages/ipykernel/iostream.py\", line 241, in _really_send\n",
      "    ctx.term()\n",
      "  File \"/scistor/ivm/ako268/miniconda3/envs/detectron_env/lib/python3.8/site-packages/zmq/sugar/context.py\", line 275, in term\n",
      "    super().term()\n",
      "  File \"zmq/backend/cython/context.pyx\", line 83, in zmq.backend.cython.context.Context.term\n",
      "  File \"zmq/backend/cython/checkrc.pxd\", line 13, in zmq.backend.cython.checkrc._check_rc\n"
     ]
    },
    {
     "ename": "KeyboardInterrupt",
     "evalue": "",
     "output_type": "error",
     "traceback": [
      "\u001b[0;31m---------------------------------------------------------------------------\u001b[0m",
      "\u001b[0;31mKeyboardInterrupt\u001b[0m                         Traceback (most recent call last)",
      "Cell \u001b[0;32mIn[9], line 15\u001b[0m\n\u001b[1;32m     12\u001b[0m tif_file_chunks \u001b[39m=\u001b[39m [tif_files[i:i\u001b[39m+\u001b[39mchunk_size] \u001b[39mfor\u001b[39;00m i \u001b[39min\u001b[39;00m \u001b[39mrange\u001b[39m(\u001b[39m0\u001b[39m, \u001b[39mlen\u001b[39m(tif_files), chunk_size)]\n\u001b[1;32m     14\u001b[0m \u001b[39m# Map the conversion function to each chunk of TIF files using multiple processes\u001b[39;00m\n\u001b[0;32m---> 15\u001b[0m pool\u001b[39m.\u001b[39;49mstarmap(tif_to_png, [(chunk, root, dest) \u001b[39mfor\u001b[39;49;00m chunk \u001b[39min\u001b[39;49;00m tif_file_chunks])\n\u001b[1;32m     17\u001b[0m pool\u001b[39m.\u001b[39mclose()\n\u001b[1;32m     18\u001b[0m pool\u001b[39m.\u001b[39mjoin()\n",
      "File \u001b[0;32m~/miniconda3/envs/detectron_env/lib/python3.8/multiprocessing/pool.py:372\u001b[0m, in \u001b[0;36mPool.starmap\u001b[0;34m(self, func, iterable, chunksize)\u001b[0m\n\u001b[1;32m    366\u001b[0m \u001b[39mdef\u001b[39;00m \u001b[39mstarmap\u001b[39m(\u001b[39mself\u001b[39m, func, iterable, chunksize\u001b[39m=\u001b[39m\u001b[39mNone\u001b[39;00m):\n\u001b[1;32m    367\u001b[0m \u001b[39m    \u001b[39m\u001b[39m'''\u001b[39;00m\n\u001b[1;32m    368\u001b[0m \u001b[39m    Like `map()` method but the elements of the `iterable` are expected to\u001b[39;00m\n\u001b[1;32m    369\u001b[0m \u001b[39m    be iterables as well and will be unpacked as arguments. Hence\u001b[39;00m\n\u001b[1;32m    370\u001b[0m \u001b[39m    `func` and (a, b) becomes func(a, b).\u001b[39;00m\n\u001b[1;32m    371\u001b[0m \u001b[39m    '''\u001b[39;00m\n\u001b[0;32m--> 372\u001b[0m     \u001b[39mreturn\u001b[39;00m \u001b[39mself\u001b[39;49m\u001b[39m.\u001b[39;49m_map_async(func, iterable, starmapstar, chunksize)\u001b[39m.\u001b[39;49mget()\n",
      "File \u001b[0;32m~/miniconda3/envs/detectron_env/lib/python3.8/multiprocessing/pool.py:765\u001b[0m, in \u001b[0;36mApplyResult.get\u001b[0;34m(self, timeout)\u001b[0m\n\u001b[1;32m    764\u001b[0m \u001b[39mdef\u001b[39;00m \u001b[39mget\u001b[39m(\u001b[39mself\u001b[39m, timeout\u001b[39m=\u001b[39m\u001b[39mNone\u001b[39;00m):\n\u001b[0;32m--> 765\u001b[0m     \u001b[39mself\u001b[39;49m\u001b[39m.\u001b[39;49mwait(timeout)\n\u001b[1;32m    766\u001b[0m     \u001b[39mif\u001b[39;00m \u001b[39mnot\u001b[39;00m \u001b[39mself\u001b[39m\u001b[39m.\u001b[39mready():\n\u001b[1;32m    767\u001b[0m         \u001b[39mraise\u001b[39;00m \u001b[39mTimeoutError\u001b[39;00m\n",
      "File \u001b[0;32m~/miniconda3/envs/detectron_env/lib/python3.8/multiprocessing/pool.py:762\u001b[0m, in \u001b[0;36mApplyResult.wait\u001b[0;34m(self, timeout)\u001b[0m\n\u001b[1;32m    761\u001b[0m \u001b[39mdef\u001b[39;00m \u001b[39mwait\u001b[39m(\u001b[39mself\u001b[39m, timeout\u001b[39m=\u001b[39m\u001b[39mNone\u001b[39;00m):\n\u001b[0;32m--> 762\u001b[0m     \u001b[39mself\u001b[39;49m\u001b[39m.\u001b[39;49m_event\u001b[39m.\u001b[39;49mwait(timeout)\n",
      "File \u001b[0;32m~/miniconda3/envs/detectron_env/lib/python3.8/threading.py:558\u001b[0m, in \u001b[0;36mEvent.wait\u001b[0;34m(self, timeout)\u001b[0m\n\u001b[1;32m    556\u001b[0m signaled \u001b[39m=\u001b[39m \u001b[39mself\u001b[39m\u001b[39m.\u001b[39m_flag\n\u001b[1;32m    557\u001b[0m \u001b[39mif\u001b[39;00m \u001b[39mnot\u001b[39;00m signaled:\n\u001b[0;32m--> 558\u001b[0m     signaled \u001b[39m=\u001b[39m \u001b[39mself\u001b[39;49m\u001b[39m.\u001b[39;49m_cond\u001b[39m.\u001b[39;49mwait(timeout)\n\u001b[1;32m    559\u001b[0m \u001b[39mreturn\u001b[39;00m signaled\n",
      "File \u001b[0;32m~/miniconda3/envs/detectron_env/lib/python3.8/threading.py:302\u001b[0m, in \u001b[0;36mCondition.wait\u001b[0;34m(self, timeout)\u001b[0m\n\u001b[1;32m    300\u001b[0m \u001b[39mtry\u001b[39;00m:    \u001b[39m# restore state no matter what (e.g., KeyboardInterrupt)\u001b[39;00m\n\u001b[1;32m    301\u001b[0m     \u001b[39mif\u001b[39;00m timeout \u001b[39mis\u001b[39;00m \u001b[39mNone\u001b[39;00m:\n\u001b[0;32m--> 302\u001b[0m         waiter\u001b[39m.\u001b[39;49macquire()\n\u001b[1;32m    303\u001b[0m         gotit \u001b[39m=\u001b[39m \u001b[39mTrue\u001b[39;00m\n\u001b[1;32m    304\u001b[0m     \u001b[39melse\u001b[39;00m:\n",
      "\u001b[0;31mKeyboardInterrupt\u001b[0m: "
     ]
    }
   ],
   "source": [
    "root = \"/scistor/ivm/project/NSO/timeseries_50/data_prep/small_tiles\"\n",
    "dest = \"/scistor/ivm/project/NSO/timeseries_50/data_prep/small_tiles_png\"\n",
    "# Select tiles and split them\n",
    "tif_files = grab_certain_file(\".tif\", root)\n",
    "# tif_to_png(tif_files, root, dest)\n",
    "\n",
    "num_processes = int(multiprocessing.cpu_count()/2)\n",
    "pool = multiprocessing.Pool(processes=num_processes)\n",
    "\n",
    "# Split the list of TIF files into chunks for parallel processing\n",
    "chunk_size = len(tif_files) // num_processes\n",
    "tif_file_chunks = [tif_files[i:i+chunk_size] for i in range(0, len(tif_files), chunk_size)]\n",
    "\n",
    "# Map the conversion function to each chunk of TIF files using multiple processes\n",
    "pool.starmap(tif_to_png, [(chunk, root, dest) for chunk in tif_file_chunks])\n",
    "\n",
    "pool.close()\n",
    "pool.join()\n"
   ]
  }
 ],
 "metadata": {
  "kernelspec": {
   "display_name": "Python 3 (ipykernel)",
   "language": "python",
   "name": "python3"
  },
  "language_info": {
   "codemirror_mode": {
    "name": "ipython",
    "version": 3
   },
   "file_extension": ".py",
   "mimetype": "text/x-python",
   "name": "python",
   "nbconvert_exporter": "python",
   "pygments_lexer": "ipython3",
   "version": "3.8.16"
  },
  "vscode": {
   "interpreter": {
    "hash": "31f2aee4e71d21fbe5cf8b01ff0e069b9275f58929596ceb00d14d90e3e16cd6"
   }
  }
 },
 "nbformat": 4,
 "nbformat_minor": 5
}
