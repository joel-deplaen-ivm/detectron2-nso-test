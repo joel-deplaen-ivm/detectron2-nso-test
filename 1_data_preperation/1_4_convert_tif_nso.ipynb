{
 "cells": [
  {
   "cell_type": "code",
   "execution_count": 1,
   "id": "6db215a1",
   "metadata": {},
   "outputs": [],
   "source": [
    "import os\n",
    "import json\n",
    "import geojson\n",
    "import numpy as np\n",
    "import pandas as pd\n",
    "from osgeo import gdal\n",
    "from sklearn.model_selection import train_test_split\n",
    "\n",
    "# custom functions\n",
    "#from detectron2-spacenet.utils.functions import grab_certain_file, tif_to_png\n",
    "import sys\n",
    "sys.path.append('../')\n",
    "from utils.functions import grab_certain_file, tif_to_png\n"
   ]
  },
  {
   "attachments": {},
   "cell_type": "markdown",
   "id": "a54425a4",
   "metadata": {},
   "source": [
    "\"\"\"\n",
    "\n",
    "Split tiles into training, val and test set. Convert tif to png. Save tiles in destination folders.\n",
    "Source: https://github.com/rl02898/detectron2-spacenet edits for test\n",
    "\n",
    "\"\"\""
   ]
  },
  {
   "cell_type": "code",
   "execution_count": null,
   "id": "60e40a61",
   "metadata": {},
   "outputs": [],
   "source": [
    "# Creat train val and test folder in NSO directory\n",
    "root_path = '../NSO'\n",
    "folders = ['train','test','val']\n",
    "for folder in folders:\n",
    "    os.mkdir(os.path.join(root_path,folder))"
   ]
  },
  {
   "cell_type": "code",
   "execution_count": 3,
   "id": "5e3f231c",
   "metadata": {},
   "outputs": [
    {
     "name": "stderr",
     "output_type": "stream",
     "text": [
      "Converting TIF images to PNG to ../NSO/train: 100%|██████████| 30292/30292 [2:53:08<00:00,  2.92it/s]  \n"
     ]
    },
    {
     "name": "stdout",
     "output_type": "stream",
     "text": [
      "Done converting NSO/train images\n"
     ]
    },
    {
     "name": "stderr",
     "output_type": "stream",
     "text": [
      "Converting TIF images to PNG to ../NSO/val: 100%|██████████| 7574/7574 [44:09<00:00,  2.86it/s]"
     ]
    },
    {
     "name": "stdout",
     "output_type": "stream",
     "text": [
      "Done converting NSO/val images\n"
     ]
    },
    {
     "name": "stderr",
     "output_type": "stream",
     "text": [
      "\n"
     ]
    }
   ],
   "source": [
    "# Source: https://russland.medium.com/using-detectron2-for-instance-segmentation-on-the-spacenet-dataset-94338f739cd0\n",
    "# Random seed, to get the same split results - Explanation (https://stackoverflow.com/questions/58955816/difference-between-shuffle-and-random-state-in-train-test-split)\n",
    "RANDOM_SEED = 560\n",
    "\n",
    "# Path to all images\n",
    "# Change name to dataset rather than train to avoid confusion...\n",
    "nso_small_t = \"../NSO/NSO_small_tiles\"\n",
    "\n",
    "# Select tiles and split them\n",
    "nso_images = grab_certain_file(\".tif\", nso_small_t)\n",
    "train, val = train_test_split(nso_images, test_size=0.2, random_state=RANDOM_SEED)\n",
    "#train, val = train_test_split(train, test_size=0.25, random_state=RANDOM_SEED)\n",
    "\n",
    "# Convert TIFF to PNG and save in destination folder\n",
    "tif_to_png(train, nso_small_t, \"../NSO/train\")\n",
    "print(\"Done converting NSO/train images\")\n",
    "tif_to_png(val, nso_small_t, \"../NSO/val\")\n",
    "print(\"Done converting NSO/val images\")\n",
    "#tif_to_png(test, nso_train, \"../NSO/test\")\n",
    "#print(\"Done converting NSO/test images\")"
   ]
  },
  {
   "cell_type": "code",
   "execution_count": null,
   "id": "45b3c4a4",
   "metadata": {},
   "outputs": [],
   "source": []
  }
 ],
 "metadata": {
  "kernelspec": {
   "display_name": "Python 3 (ipykernel)",
   "language": "python",
   "name": "python3"
  },
  "language_info": {
   "codemirror_mode": {
    "name": "ipython",
    "version": 3
   },
   "file_extension": ".py",
   "mimetype": "text/x-python",
   "name": "python",
   "nbconvert_exporter": "python",
   "pygments_lexer": "ipython3",
   "version": "3.8.2"
  },
  "vscode": {
   "interpreter": {
    "hash": "31f2aee4e71d21fbe5cf8b01ff0e069b9275f58929596ceb00d14d90e3e16cd6"
   }
  }
 },
 "nbformat": 4,
 "nbformat_minor": 5
}
