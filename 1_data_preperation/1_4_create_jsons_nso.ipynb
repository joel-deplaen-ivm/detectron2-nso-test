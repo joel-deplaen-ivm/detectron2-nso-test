{
 "cells": [
  {
   "cell_type": "code",
   "execution_count": 1,
   "id": "38c314c4",
   "metadata": {},
   "outputs": [
    {
     "name": "stdout",
     "output_type": "stream",
     "text": [
      "done\n"
     ]
    }
   ],
   "source": [
    "import os\n",
    "import json\n",
    "import geojson\n",
    "import pandas as pd\n",
    "from tqdm import tqdm\n",
    "from osgeo import gdal\n",
    "from sklearn.model_selection import train_test_split\n",
    "\n",
    "# custom functions\n",
    "import sys\n",
    "subdirectory = '/scistor/ivm/ako268/nso_repo/detectron2-nso-test/1_data_preperation'\n",
    "sys.path.append(subdirectory)\n",
    "from utils.functions import grab_certain_file\n",
    "# TODO delete functions.py in data_preperation folder. Use main utils instead.\n",
    "print('done')"
   ]
  },
  {
   "cell_type": "code",
   "execution_count": 2,
   "id": "e09a3ce3",
   "metadata": {},
   "outputs": [
    {
     "name": "stdout",
     "output_type": "stream",
     "text": [
      "No GPU available.\n"
     ]
    }
   ],
   "source": [
    "import torch\n",
    "\n",
    "if torch.cuda.is_available():\n",
    "    device = torch.cuda.get_device_name(0)\n",
    "    device_count = torch.cuda.device_count()\n",
    "    compute_capability = torch.cuda.get_device_capability(0)\n",
    "    total_memory = torch.cuda.get_device_properties(0).total_memory\n",
    "\n",
    "    print(f\"Device: {device}\")\n",
    "    print(f\"Number of GPUs: {device_count}\")\n",
    "    print(f\"Compute Capability: {compute_capability}\")\n",
    "    print(f\"Total Memory: {total_memory} bytes\")\n",
    "else:\n",
    "    print(\"No GPU available.\")\n"
   ]
  },
  {
   "attachments": {},
   "cell_type": "markdown",
   "id": "c9d9e91b",
   "metadata": {},
   "source": [
    "'''\n",
    "Read NSO tiles and annotations geojsons, convert lat/lon of tile to pixel coordinates and save pixel coordinates into\n",
    ".json file If more than on .json file can be saved as one via_regions.json.\n",
    "Source:  https://github.com/rl02898/detectron2-spacenet. JDP Edits:some and saving json with origins of tile in jsons to allow stiching back\n",
    "of the tiles.\n",
    "'''"
   ]
  },
  {
   "cell_type": "code",
   "execution_count": 41,
   "id": "7343cc91",
   "metadata": {},
   "outputs": [],
   "source": [
    "# Divide dataset and set a random seed for reproducibility of the splits for next script\n",
    "# TODO: path nso_train and nso_geojson to tiling.py output => Better move output of tiling to those 2 folder in NSO/ \n",
    "\n",
    "RANDOM_SEED = 560\n",
    "\n",
    "prepath + \"geojsons\"\n",
    "# Change name to dataset...\n",
    "nso_train = \"../NSO/train\"\n",
    "nso_val = \"../NSO/val\"\n",
    "nso_geojson = \"../NSO/geojsons\"\n",
    "#nso_images = grab_certain_file(\".tif\", nso_train)\n",
    "#train, val = train_test_split(nso_images, test_size=0.2, random_state=RANDOM_SEED)\n",
    "#train = nso_images"
   ]
  },
  {
   "cell_type": "code",
   "execution_count": 48,
   "id": "1f49ce02",
   "metadata": {},
   "outputs": [],
   "source": [
    "RANDOM_SEED = 560\n",
    "\n",
    "nso_train = \"../NSO/NSO_small_tiles\"\n",
    "nso_geojson = \"../NSO/geojsons\"\n",
    "# Create JSONs for Detectron2\n",
    "nso_images = grab_certain_file(\".tif\", nso_train)\n",
    "train, val = train_test_split(nso_images, test_size=0.2, random_state=RANDOM_SEED)"
   ]
  },
  {
   "cell_type": "code",
   "execution_count": 49,
   "id": "f447e756",
   "metadata": {},
   "outputs": [
    {
     "name": "stderr",
     "output_type": "stream",
     "text": [
      "Creating JSONs for Detectron2 on train:  74%|███████▎  | 1656/2249 [00:00<00:00, 8459.23it/s]"
     ]
    },
    {
     "name": "stdout",
     "output_type": "stream",
     "text": [
      "2\n",
      "{'0': {'shape_attributes': {'name': 'polygon', 'all_points_x': [503, 487, 476, 506, 492, 535, 542, 569, 566, 585, 591, 615, 634, 646, 625, 622, 551, 578, 499, 488, 504, 503], 'all_points_y': [623, 630, 586, 575, 506, 492, 518, 511, 491, 481, 509, 503, 498, 552, 560, 552, 571, 670, 689, 636, 632, 623], 'category': 0}, 'region_attributes': {}}}\n",
      "{'0': {'shape_attributes': {'name': 'polygon', 'all_points_x': [503, 487, 476, 506, 492, 535, 542, 569, 566, 585, 591, 615, 634, 646, 625, 622, 551, 578, 499, 488, 504, 503], 'all_points_y': [623, 630, 586, 575, 506, 492, 518, 511, 491, 481, 509, 503, 498, 552, 560, 552, 571, 670, 689, 636, 632, 623], 'category': 0}, 'region_attributes': {}}, '1': {'shape_attributes': {'name': 'polygon', 'all_points_x': [503, 487, 476, 506, 492, 535, 542, 569, 566, 585, 591, 615, 634, 646, 625, 622, 551, 578, 499, 488, 504, 503], 'all_points_y': [623, 630, 586, 575, 506, 492, 518, 511, 491, 481, 509, 503, 498, 552, 560, 552, 571, 670, 689, 636, 632, 623], 'category': 0}, 'region_attributes': {}}}\n",
      "{'file_ref': '', 'size': 66462, 'filename': '2_20221110_104809_SV2-01_SV_RD_8bit_RGB_50cm_Arcen_33000_6000.png', 'base64_img_data': '', 'file_attributes': {}, 'regions': {'0': {'shape_attributes': {'name': 'polygon', 'all_points_x': [503, 487, 476, 506, 492, 535, 542, 569, 566, 585, 591, 615, 634, 646, 625, 622, 551, 578, 499, 488, 504, 503], 'all_points_y': [623, 630, 586, 575, 506, 492, 518, 511, 491, 481, 509, 503, 498, 552, 560, 552, 571, 670, 689, 636, 632, 623], 'category': 0}, 'region_attributes': {}}, '1': {'shape_attributes': {'name': 'polygon', 'all_points_x': [503, 487, 476, 506, 492, 535, 542, 569, 566, 585, 591, 615, 634, 646, 625, 622, 551, 578, 499, 488, 504, 503], 'all_points_y': [623, 630, 586, 575, 506, 492, 518, 511, 491, 481, 509, 503, 498, 552, 560, 552, 571, 670, 689, 636, 632, 623], 'category': 0}, 'region_attributes': {}}}, 'origin_x': 204458.0, 'origin_y': 381999.5}\n",
      "3\n",
      "{'0': {'shape_attributes': {'name': 'polygon', 'all_points_x': [428, 436, 407, 399, 428], 'all_points_y': [29, 83, 89, 33, 29], 'category': 0}, 'region_attributes': {}}}\n",
      "{'0': {'shape_attributes': {'name': 'polygon', 'all_points_x': [428, 436, 407, 399, 428], 'all_points_y': [29, 83, 89, 33, 29], 'category': 0}, 'region_attributes': {}}, '1': {'shape_attributes': {'name': 'polygon', 'all_points_x': [485, 483, 503, 507, 488, 490, 470, 460, 485], 'all_points_y': [40, 27, 25, 57, 61, 80, 83, 41, 40], 'category': 0}, 'region_attributes': {}}}\n",
      "{'0': {'shape_attributes': {'name': 'polygon', 'all_points_x': [428, 436, 407, 399, 428], 'all_points_y': [29, 83, 89, 33, 29], 'category': 0}, 'region_attributes': {}}, '1': {'shape_attributes': {'name': 'polygon', 'all_points_x': [485, 483, 503, 507, 488, 490, 470, 460, 485], 'all_points_y': [40, 27, 25, 57, 61, 80, 83, 41, 40], 'category': 0}, 'region_attributes': {}}, '2': {'shape_attributes': {'name': 'polygon', 'all_points_x': [485, 483, 503, 507, 488, 490, 470, 460, 485], 'all_points_y': [40, 27, 25, 57, 61, 80, 83, 41, 40], 'category': 0}, 'region_attributes': {}}}\n",
      "{'file_ref': '', 'size': 3011273, 'filename': '1_20220717_105004_SV2-01_SV_RD_8bit_RGB_50cm_Heerlen_24000_4000.png', 'base64_img_data': '', 'file_attributes': {}, 'regions': {'0': {'shape_attributes': {'name': 'polygon', 'all_points_x': [428, 436, 407, 399, 428], 'all_points_y': [29, 83, 89, 33, 29], 'category': 0}, 'region_attributes': {}}, '1': {'shape_attributes': {'name': 'polygon', 'all_points_x': [485, 483, 503, 507, 488, 490, 470, 460, 485], 'all_points_y': [40, 27, 25, 57, 61, 80, 83, 41, 40], 'category': 0}, 'region_attributes': {}}, '2': {'shape_attributes': {'name': 'polygon', 'all_points_x': [485, 483, 503, 507, 488, 490, 470, 460, 485], 'all_points_y': [40, 27, 25, 57, 61, 80, 83, 41, 40], 'category': 0}, 'region_attributes': {}}}, 'origin_x': 189918.0, 'origin_y': 318435.0}\n",
      "2\n",
      "{'0': {'shape_attributes': {'name': 'polygon', 'all_points_x': [131, 96, 72, 110, 91, 53, 31, 64, 16, 0, 0, 15, 25, 0, 0, 19, 148, 147, 131], 'all_points_y': [725, 681, 709, 739, 756, 722, 750, 781, 822, 808, 583, 604, 593, 564, 561, 543, 700, 707, 725], 'category': 0}, 'region_attributes': {}}}\n",
      "{'0': {'shape_attributes': {'name': 'polygon', 'all_points_x': [131, 96, 72, 110, 91, 53, 31, 64, 16, 0, 0, 15, 25, 0, 0, 19, 148, 147, 131], 'all_points_y': [725, 681, 709, 739, 756, 722, 750, 781, 822, 808, 583, 604, 593, 564, 561, 543, 700, 707, 725], 'category': 0}, 'region_attributes': {}}, '1': {'shape_attributes': {'name': 'polygon', 'all_points_x': [131, 96, 72, 110, 91, 53, 31, 64, 16, 0, 0, 15, 25, 0, 0, 19, 148, 147, 131], 'all_points_y': [725, 681, 709, 739, 756, 722, 750, 781, 822, 808, 583, 604, 593, 564, 561, 543, 700, 707, 725], 'category': 0}, 'region_attributes': {}}}\n",
      "{'file_ref': '', 'size': 3355091, 'filename': '1_20220717_105004_SV2-01_SV_RD_8bit_RGB_50cm_Heerlen_20000_23000.png', 'base64_img_data': '', 'file_attributes': {}, 'regions': {'0': {'shape_attributes': {'name': 'polygon', 'all_points_x': [131, 96, 72, 110, 91, 53, 31, 64, 16, 0, 0, 15, 25, 0, 0, 19, 148, 147, 131], 'all_points_y': [725, 681, 709, 739, 756, 722, 750, 781, 822, 808, 583, 604, 593, 564, 561, 543, 700, 707, 725], 'category': 0}, 'region_attributes': {}}, '1': {'shape_attributes': {'name': 'polygon', 'all_points_x': [131, 96, 72, 110, 91, 53, 31, 64, 16, 0, 0, 15, 25, 0, 0, 19, 148, 147, 131], 'all_points_y': [725, 681, 709, 739, 756, 722, 750, 781, 822, 808, 583, 604, 593, 564, 561, 543, 700, 707, 725], 'category': 0}, 'region_attributes': {}}}, 'origin_x': 199418.0, 'origin_y': 320435.0}\n",
      "4\n",
      "{'0': {'shape_attributes': {'name': 'polygon', 'all_points_x': [700, 686, 648, 615, 657, 645, 609, 591, 634, 619, 582, 557, 588, 581, 603, 618, 636, 656, 693, 711, 674, 688, 723, 743, 703, 721, 761, 781, 738, 749, 786, 805, 730, 717, 679, 657, 700], 'all_points_y': [564, 544, 575, 527, 505, 487, 515, 488, 461, 443, 470, 428, 411, 395, 379, 402, 390, 412, 387, 417, 438, 457, 427, 454, 484, 516, 486, 522, 547, 565, 532, 563, 616, 594, 625, 589, 564], 'category': 0}, 'region_attributes': {}}}\n",
      "{'0': {'shape_attributes': {'name': 'polygon', 'all_points_x': [700, 686, 648, 615, 657, 645, 609, 591, 634, 619, 582, 557, 588, 581, 603, 618, 636, 656, 693, 711, 674, 688, 723, 743, 703, 721, 761, 781, 738, 749, 786, 805, 730, 717, 679, 657, 700], 'all_points_y': [564, 544, 575, 527, 505, 487, 515, 488, 461, 443, 470, 428, 411, 395, 379, 402, 390, 412, 387, 417, 438, 457, 427, 454, 484, 516, 486, 522, 547, 565, 532, 563, 616, 594, 625, 589, 564], 'category': 0}, 'region_attributes': {}}, '1': {'shape_attributes': {'name': 'polygon', 'all_points_x': [586, 586, 605, 618, 649, 670, 690, 692, 710, 686, 699, 716, 718, 737, 708, 737, 757, 757, 778, 752, 763, 786, 787, 804, 733, 726, 711, 677, 661, 696, 685, 649, 624, 626, 659, 647, 608, 593, 602, 616, 635, 627, 617, 610, 579, 557, 586], 'all_points_y': [410, 391, 383, 402, 386, 408, 399, 384, 416, 429, 452, 438, 422, 457, 475, 514, 500, 486, 522, 535, 557, 543, 531, 565, 619, 607, 589, 620, 595, 563, 546, 575, 538, 531, 502, 483, 512, 489, 484, 476, 463, 445, 451, 445, 467, 426, 410], 'category': 0}, 'region_attributes': {}}}\n",
      "{'0': {'shape_attributes': {'name': 'polygon', 'all_points_x': [700, 686, 648, 615, 657, 645, 609, 591, 634, 619, 582, 557, 588, 581, 603, 618, 636, 656, 693, 711, 674, 688, 723, 743, 703, 721, 761, 781, 738, 749, 786, 805, 730, 717, 679, 657, 700], 'all_points_y': [564, 544, 575, 527, 505, 487, 515, 488, 461, 443, 470, 428, 411, 395, 379, 402, 390, 412, 387, 417, 438, 457, 427, 454, 484, 516, 486, 522, 547, 565, 532, 563, 616, 594, 625, 589, 564], 'category': 0}, 'region_attributes': {}}, '1': {'shape_attributes': {'name': 'polygon', 'all_points_x': [586, 586, 605, 618, 649, 670, 690, 692, 710, 686, 699, 716, 718, 737, 708, 737, 757, 757, 778, 752, 763, 786, 787, 804, 733, 726, 711, 677, 661, 696, 685, 649, 624, 626, 659, 647, 608, 593, 602, 616, 635, 627, 617, 610, 579, 557, 586], 'all_points_y': [410, 391, 383, 402, 386, 408, 399, 384, 416, 429, 452, 438, 422, 457, 475, 514, 500, 486, 522, 535, 557, 543, 531, 565, 619, 607, 589, 620, 595, 563, 546, 575, 538, 531, 502, 483, 512, 489, 484, 476, 463, 445, 451, 445, 467, 426, 410], 'category': 0}, 'region_attributes': {}}, '2': {'shape_attributes': {'name': 'polygon', 'all_points_x': [586, 586, 605, 618, 649, 670, 690, 692, 710, 686, 699, 716, 718, 737, 708, 737, 757, 757, 778, 752, 763, 786, 787, 804, 733, 726, 711, 677, 661, 696, 685, 649, 624, 626, 659, 647, 608, 593, 602, 616, 635, 627, 617, 610, 579, 557, 586], 'all_points_y': [410, 391, 383, 402, 386, 408, 399, 384, 416, 429, 452, 438, 422, 457, 475, 514, 500, 486, 522, 535, 557, 543, 531, 565, 619, 607, 589, 620, 595, 563, 546, 575, 538, 531, 502, 483, 512, 489, 484, 476, 463, 445, 451, 445, 467, 426, 410], 'category': 0}, 'region_attributes': {}}}\n",
      "{'0': {'shape_attributes': {'name': 'polygon', 'all_points_x': [700, 686, 648, 615, 657, 645, 609, 591, 634, 619, 582, 557, 588, 581, 603, 618, 636, 656, 693, 711, 674, 688, 723, 743, 703, 721, 761, 781, 738, 749, 786, 805, 730, 717, 679, 657, 700], 'all_points_y': [564, 544, 575, 527, 505, 487, 515, 488, 461, 443, 470, 428, 411, 395, 379, 402, 390, 412, 387, 417, 438, 457, 427, 454, 484, 516, 486, 522, 547, 565, 532, 563, 616, 594, 625, 589, 564], 'category': 0}, 'region_attributes': {}}, '1': {'shape_attributes': {'name': 'polygon', 'all_points_x': [586, 586, 605, 618, 649, 670, 690, 692, 710, 686, 699, 716, 718, 737, 708, 737, 757, 757, 778, 752, 763, 786, 787, 804, 733, 726, 711, 677, 661, 696, 685, 649, 624, 626, 659, 647, 608, 593, 602, 616, 635, 627, 617, 610, 579, 557, 586], 'all_points_y': [410, 391, 383, 402, 386, 408, 399, 384, 416, 429, 452, 438, 422, 457, 475, 514, 500, 486, 522, 535, 557, 543, 531, 565, 619, 607, 589, 620, 595, 563, 546, 575, 538, 531, 502, 483, 512, 489, 484, 476, 463, 445, 451, 445, 467, 426, 410], 'category': 0}, 'region_attributes': {}}, '2': {'shape_attributes': {'name': 'polygon', 'all_points_x': [586, 586, 605, 618, 649, 670, 690, 692, 710, 686, 699, 716, 718, 737, 708, 737, 757, 757, 778, 752, 763, 786, 787, 804, 733, 726, 711, 677, 661, 696, 685, 649, 624, 626, 659, 647, 608, 593, 602, 616, 635, 627, 617, 610, 579, 557, 586], 'all_points_y': [410, 391, 383, 402, 386, 408, 399, 384, 416, 429, 452, 438, 422, 457, 475, 514, 500, 486, 522, 535, 557, 543, 531, 565, 619, 607, 589, 620, 595, 563, 546, 575, 538, 531, 502, 483, 512, 489, 484, 476, 463, 445, 451, 445, 467, 426, 410], 'category': 0}, 'region_attributes': {}}, '3': {'shape_attributes': {'name': 'polygon', 'all_points_x': [586, 586, 605, 618, 649, 670, 690, 692, 710, 686, 699, 716, 718, 737, 708, 737, 757, 757, 778, 752, 763, 786, 787, 804, 733, 726, 711, 677, 661, 696, 685, 649, 624, 626, 659, 647, 608, 593, 602, 616, 635, 627, 617, 610, 579, 557, 586], 'all_points_y': [410, 391, 383, 402, 386, 408, 399, 384, 416, 429, 452, 438, 422, 457, 475, 514, 500, 486, 522, 535, 557, 543, 531, 565, 619, 607, 589, 620, 595, 563, 546, 575, 538, 531, 502, 483, 512, 489, 484, 476, 463, 445, 451, 445, 467, 426, 410], 'category': 0}, 'region_attributes': {}}}\n",
      "{'file_ref': '', 'size': 3310123, 'filename': '1_20220717_105004_SV2-01_SV_RD_8bit_RGB_50cm_Heerlen_13000_15000.png', 'base64_img_data': '', 'file_attributes': {}, 'regions': {'0': {'shape_attributes': {'name': 'polygon', 'all_points_x': [700, 686, 648, 615, 657, 645, 609, 591, 634, 619, 582, 557, 588, 581, 603, 618, 636, 656, 693, 711, 674, 688, 723, 743, 703, 721, 761, 781, 738, 749, 786, 805, 730, 717, 679, 657, 700], 'all_points_y': [564, 544, 575, 527, 505, 487, 515, 488, 461, 443, 470, 428, 411, 395, 379, 402, 390, 412, 387, 417, 438, 457, 427, 454, 484, 516, 486, 522, 547, 565, 532, 563, 616, 594, 625, 589, 564], 'category': 0}, 'region_attributes': {}}, '1': {'shape_attributes': {'name': 'polygon', 'all_points_x': [586, 586, 605, 618, 649, 670, 690, 692, 710, 686, 699, 716, 718, 737, 708, 737, 757, 757, 778, 752, 763, 786, 787, 804, 733, 726, 711, 677, 661, 696, 685, 649, 624, 626, 659, 647, 608, 593, 602, 616, 635, 627, 617, 610, 579, 557, 586], 'all_points_y': [410, 391, 383, 402, 386, 408, 399, 384, 416, 429, 452, 438, 422, 457, 475, 514, 500, 486, 522, 535, 557, 543, 531, 565, 619, 607, 589, 620, 595, 563, 546, 575, 538, 531, 502, 483, 512, 489, 484, 476, 463, 445, 451, 445, 467, 426, 410], 'category': 0}, 'region_attributes': {}}, '2': {'shape_attributes': {'name': 'polygon', 'all_points_x': [586, 586, 605, 618, 649, 670, 690, 692, 710, 686, 699, 716, 718, 737, 708, 737, 757, 757, 778, 752, 763, 786, 787, 804, 733, 726, 711, 677, 661, 696, 685, 649, 624, 626, 659, 647, 608, 593, 602, 616, 635, 627, 617, 610, 579, 557, 586], 'all_points_y': [410, 391, 383, 402, 386, 408, 399, 384, 416, 429, 452, 438, 422, 457, 475, 514, 500, 486, 522, 535, 557, 543, 531, 565, 619, 607, 589, 620, 595, 563, 546, 575, 538, 531, 502, 483, 512, 489, 484, 476, 463, 445, 451, 445, 467, 426, 410], 'category': 0}, 'region_attributes': {}}, '3': {'shape_attributes': {'name': 'polygon', 'all_points_x': [586, 586, 605, 618, 649, 670, 690, 692, 710, 686, 699, 716, 718, 737, 708, 737, 757, 757, 778, 752, 763, 786, 787, 804, 733, 726, 711, 677, 661, 696, 685, 649, 624, 626, 659, 647, 608, 593, 602, 616, 635, 627, 617, 610, 579, 557, 586], 'all_points_y': [410, 391, 383, 402, 386, 408, 399, 384, 416, 429, 452, 438, 422, 457, 475, 514, 500, 486, 522, 535, 557, 543, 531, 565, 619, 607, 589, 620, 595, 563, 546, 575, 538, 531, 502, 483, 512, 489, 484, 476, 463, 445, 451, 445, 467, 426, 410], 'category': 0}, 'region_attributes': {}}}, 'origin_x': 195418.0, 'origin_y': 323935.0}\n",
      "2\n",
      "{'0': {'shape_attributes': {'name': 'polygon', 'all_points_x': [982, 941, 973, 941, 902, 886, 925, 905, 770, 768, 802, 822, 875, 844, 872, 899, 948, 917, 946, 969, 999, 973, 967, 988, 1000, 1000, 982], 'all_points_y': [793, 836, 875, 904, 864, 884, 921, 941, 798, 794, 761, 793, 739, 707, 682, 711, 668, 640, 614, 643, 618, 589, 584, 567, 583, 808, 793], 'category': 0}, 'region_attributes': {}}}\n",
      "{'0': {'shape_attributes': {'name': 'polygon', 'all_points_x': [982, 941, 973, 941, 902, 886, 925, 905, 770, 768, 802, 822, 875, 844, 872, 899, 948, 917, 946, 969, 999, 973, 967, 988, 1000, 1000, 982], 'all_points_y': [793, 836, 875, 904, 864, 884, 921, 941, 798, 794, 761, 793, 739, 707, 682, 711, 668, 640, 614, 643, 618, 589, 584, 567, 583, 808, 793], 'category': 0}, 'region_attributes': {}}, '1': {'shape_attributes': {'name': 'polygon', 'all_points_x': [982, 941, 973, 941, 902, 886, 925, 905, 770, 768, 802, 822, 875, 844, 872, 899, 948, 917, 946, 969, 999, 973, 967, 988, 1000, 1000, 982], 'all_points_y': [793, 836, 875, 904, 864, 884, 921, 941, 798, 794, 761, 793, 739, 707, 682, 711, 668, 640, 614, 643, 618, 589, 584, 567, 583, 808, 793], 'category': 0}, 'region_attributes': {}}}\n",
      "{'file_ref': '', 'size': 3369409, 'filename': '1_20220717_105004_SV2-01_SV_RD_8bit_RGB_50cm_Heerlen_20000_22000.png', 'base64_img_data': '', 'file_attributes': {}, 'regions': {'0': {'shape_attributes': {'name': 'polygon', 'all_points_x': [982, 941, 973, 941, 902, 886, 925, 905, 770, 768, 802, 822, 875, 844, 872, 899, 948, 917, 946, 969, 999, 973, 967, 988, 1000, 1000, 982], 'all_points_y': [793, 836, 875, 904, 864, 884, 921, 941, 798, 794, 761, 793, 739, 707, 682, 711, 668, 640, 614, 643, 618, 589, 584, 567, 583, 808, 793], 'category': 0}, 'region_attributes': {}}, '1': {'shape_attributes': {'name': 'polygon', 'all_points_x': [982, 941, 973, 941, 902, 886, 925, 905, 770, 768, 802, 822, 875, 844, 872, 899, 948, 917, 946, 969, 999, 973, 967, 988, 1000, 1000, 982], 'all_points_y': [793, 836, 875, 904, 864, 884, 921, 941, 798, 794, 761, 793, 739, 707, 682, 711, 668, 640, 614, 643, 618, 589, 584, 567, 583, 808, 793], 'category': 0}, 'region_attributes': {}}}, 'origin_x': 198918.0, 'origin_y': 320435.0}\n"
     ]
    },
    {
     "name": "stderr",
     "output_type": "stream",
     "text": [
      "\r\n",
      "Creating JSONs for Detectron2 on train: 100%|██████████| 2249/2249 [00:00<00:00, 8658.63it/s]"
     ]
    },
    {
     "name": "stdout",
     "output_type": "stream",
     "text": [
      "3\n",
      "{'0': {'shape_attributes': {'name': 'polygon', 'all_points_x': [927, 930, 961, 980, 961, 958, 951, 929, 916, 915, 920, 916, 908, 899, 905, 896, 891, 881, 927], 'all_points_y': [388, 399, 434, 453, 473, 466, 467, 484, 466, 460, 451, 444, 450, 440, 435, 428, 433, 427, 388], 'category': 0}, 'region_attributes': {}}}\n",
      "{'0': {'shape_attributes': {'name': 'polygon', 'all_points_x': [927, 930, 961, 980, 961, 958, 951, 929, 916, 915, 920, 916, 908, 899, 905, 896, 891, 881, 927], 'all_points_y': [388, 399, 434, 453, 473, 466, 467, 484, 466, 460, 451, 444, 450, 440, 435, 428, 433, 427, 388], 'category': 0}, 'region_attributes': {}}, '1': {'shape_attributes': {'name': 'polygon', 'all_points_x': [927, 930, 961, 980, 961, 958, 951, 929, 916, 915, 920, 916, 908, 899, 905, 896, 891, 881, 927], 'all_points_y': [388, 399, 434, 453, 473, 466, 467, 484, 466, 460, 451, 444, 450, 440, 435, 428, 433, 427, 388], 'category': 0}, 'region_attributes': {}}}\n",
      "{'0': {'shape_attributes': {'name': 'polygon', 'all_points_x': [927, 930, 961, 980, 961, 958, 951, 929, 916, 915, 920, 916, 908, 899, 905, 896, 891, 881, 927], 'all_points_y': [388, 399, 434, 453, 473, 466, 467, 484, 466, 460, 451, 444, 450, 440, 435, 428, 433, 427, 388], 'category': 0}, 'region_attributes': {}}, '1': {'shape_attributes': {'name': 'polygon', 'all_points_x': [927, 930, 961, 980, 961, 958, 951, 929, 916, 915, 920, 916, 908, 899, 905, 896, 891, 881, 927], 'all_points_y': [388, 399, 434, 453, 473, 466, 467, 484, 466, 460, 451, 444, 450, 440, 435, 428, 433, 427, 388], 'category': 0}, 'region_attributes': {}}, '2': {'shape_attributes': {'name': 'polygon', 'all_points_x': [927, 930, 961, 980, 961, 958, 951, 929, 916, 915, 920, 916, 908, 899, 905, 896, 891, 881, 927], 'all_points_y': [388, 399, 434, 453, 473, 466, 467, 484, 466, 460, 451, 444, 450, 440, 435, 428, 433, 427, 388], 'category': 0}, 'region_attributes': {}}}\n",
      "{'file_ref': '', 'size': 3304326, 'filename': '1_20220717_105004_SV2-01_SV_RD_8bit_RGB_50cm_Heerlen_14000_15000.png', 'base64_img_data': '', 'file_attributes': {}, 'regions': {'0': {'shape_attributes': {'name': 'polygon', 'all_points_x': [927, 930, 961, 980, 961, 958, 951, 929, 916, 915, 920, 916, 908, 899, 905, 896, 891, 881, 927], 'all_points_y': [388, 399, 434, 453, 473, 466, 467, 484, 466, 460, 451, 444, 450, 440, 435, 428, 433, 427, 388], 'category': 0}, 'region_attributes': {}}, '1': {'shape_attributes': {'name': 'polygon', 'all_points_x': [927, 930, 961, 980, 961, 958, 951, 929, 916, 915, 920, 916, 908, 899, 905, 896, 891, 881, 927], 'all_points_y': [388, 399, 434, 453, 473, 466, 467, 484, 466, 460, 451, 444, 450, 440, 435, 428, 433, 427, 388], 'category': 0}, 'region_attributes': {}}, '2': {'shape_attributes': {'name': 'polygon', 'all_points_x': [927, 930, 961, 980, 961, 958, 951, 929, 916, 915, 920, 916, 908, 899, 905, 896, 891, 881, 927], 'all_points_y': [388, 399, 434, 453, 473, 466, 467, 484, 466, 460, 451, 444, 450, 440, 435, 428, 433, 427, 388], 'category': 0}, 'region_attributes': {}}}, 'origin_x': 195418.0, 'origin_y': 323435.0}\n"
     ]
    },
    {
     "name": "stderr",
     "output_type": "stream",
     "text": [
      "\n"
     ]
    }
   ],
   "source": [
    "# Training set\n",
    "\n",
    "# Create an empty dictionary to store the training set of annotations and their pixel coordinates\n",
    "train_dict = {}\n",
    "\n",
    "# Loop over each image in the training set\n",
    "for file in tqdm(train, desc=\"Creating JSONs for Detectron2 on train\", ncols=150, bar_format=\"{l_bar}{bar:10}{r_bar}\"):\n",
    "    file_path = os.path.join(nso_train, file)\n",
    "    img_id = file.split(\".tif\")[0]\n",
    "    geojson_path = os.path.join(nso_geojson, f\"{img_id}.geojson\")\n",
    "    \n",
    "    #Not all tiles have annotations, thus:\n",
    "    if os.path.exists(geojson_path):\n",
    "        \n",
    "        # Load the geojson in gj\n",
    "        with open(geojson_path) as f:\n",
    "            gj = geojson.load(f)\n",
    "        \n",
    "        # Create a dictionary to store the regions (annotations spatial features) for the image\n",
    "        regions = {}\n",
    "        num_buildings = len(gj[\"features\"])\n",
    "        print (num_buildings) \n",
    "        # Open the image with gdal to get pixel size and origin if feature exists\n",
    "        if num_buildings > 0:\n",
    "            gdal_image = gdal.Open(file_path)\n",
    "            \n",
    "            # Get the pixel width and height(0.5 for nso) and the origin coordinates\n",
    "            #https://www.gis.usu.edu/~chrisg/python/2009/lectures/ospy_slides4.pdf\n",
    "            pixel_width, pixel_height = gdal_image.GetGeoTransform()[1], gdal_image.GetGeoTransform()[5]\n",
    "            originX, originY = gdal_image.GetGeoTransform()[0], gdal_image.GetGeoTransform()[3]\n",
    "            \n",
    "            # Loop over each building/assets in the image\n",
    "            for i in range(num_buildings):\n",
    "                \n",
    "                # Get the polygon points for the asset\n",
    "                #https://stackoverflow.com/questions/23306653/python-accessing-nested-json-data\n",
    "                points = gj[\"features\"][i][\"geometry\"][\"coordinates\"][0]\n",
    "                \n",
    "                # If there is only one point, unwarp it=>check\n",
    "                if len(points) == 1:\n",
    "                    points = points[0]\n",
    "\n",
    "                #Empty lists to store pixel coordinates\n",
    "                all_points_x, all_points_y = [], []\n",
    "                \n",
    "                # Convert the lat/long points to pixel coordinates by substacting origin\n",
    "                for j in range(len(points)):\n",
    "                    all_points_x.append(int(round((points[j][0] - originX) / pixel_width)))\n",
    "                    all_points_y.append(int(round((points[j][1] - originY) / pixel_height)))\n",
    "                    \n",
    "                # Create a dictionary to store the asset footprint\n",
    "                regions[str(i)] = {\"shape_attributes\":\n",
    "                                       {\"name\": \"polygon\",\n",
    "                                        \"all_points_x\": all_points_x,\n",
    "                                        \"all_points_y\": all_points_y,\n",
    "                                        \"category\": 0\n",
    "                                       },\n",
    "                                   \"region_attributes\": {}\n",
    "                                  }\n",
    "                print (regions)\n",
    "        #Should probably save origin x and y here but we still have the og tiles and imgid and allow to stich tiles back together\n",
    "        #TODO: same for tiles without annot.Eg create json with empty regions in the else\n",
    "        dictionary = {\"file_ref\": '',\n",
    "                      \"size\": os.path.getsize(file_path),\n",
    "                      \"filename\": file.replace(\".tif\", \".png\"),\n",
    "                      \"base64_img_data\": '',\n",
    "                      \"file_attributes\": {},\n",
    "                      \"regions\": regions,\n",
    "                      \"origin_x\": originX,\n",
    "                      \"origin_y\": originY\n",
    "                     }\n",
    "        print (dictionary)\n",
    "        train_dict[file.replace(\".tif\", \".png\")] = dictionary\n",
    "    else:\n",
    "        continue\n",
    "\n",
    "with open(\"../NSO/train/nso.json\", \"w\") as f:\n",
    "    json.dump(train_dict, f)"
   ]
  },
  {
   "cell_type": "code",
   "execution_count": 50,
   "id": "6f301403",
   "metadata": {},
   "outputs": [
    {
     "name": "stderr",
     "output_type": "stream",
     "text": [
      "Creating JSONs for Detectron2 on val: 100%|██████████| 563/563 [00:00<00:00, 9623.61it/s]\n"
     ]
    }
   ],
   "source": [
    "#Validation set\n",
    "val_dict = {}\n",
    "\n",
    "for file in tqdm(val, desc=\"Creating JSONs for Detectron2 on val\", ncols=150, bar_format=\"{l_bar}{bar:10}{r_bar}\"):\n",
    "    file_path = os.path.join(nso_val, file)\n",
    "    img_id = file.split(\".tif\")[0]\n",
    "    geojson_path = os.path.join(nso_geojson, f\"{img_id}.geojson\")\n",
    "    if os.path.exists(geojson_path): \n",
    "        with open(geojson_path) as f:\n",
    "            gj = geojson.load(f)\n",
    "\n",
    "        regions = {}\n",
    "        num_buildings = len(gj[\"features\"])\n",
    "        if num_buildings > 0:\n",
    "            gdal_image = gdal.Open(file_path)\n",
    "            pixel_width, pixel_height = gdal_image.GetGeoTransform()[1], gdal_image.GetGeoTransform()[5]\n",
    "            originX, originY = gdal_image.GetGeoTransform()[0], gdal_image.GetGeoTransform()[3]\n",
    "\n",
    "            for i in range(num_buildings):\n",
    "                points = gj[\"features\"][i][\"geometry\"][\"coordinates\"][0]\n",
    "                if len(points) == 1:\n",
    "                    points = points[0]\n",
    "\n",
    "                all_points_x, all_points_y = [], []\n",
    "                for j in range(len(points)):\n",
    "                    all_points_x.append(int(round((points[j][0] - originX) / pixel_width)))\n",
    "                    all_points_y.append(int(round((points[j][1] - originY) / pixel_height)))\n",
    "\n",
    "                regions[str(i)] = {\"shape_attributes\":\n",
    "                                       {\"name\": \"polygon\",\n",
    "                                        \"all_points_x\": all_points_x,\n",
    "                                        \"all_points_y\": all_points_y,\n",
    "                                        \"category\": 0\n",
    "                                       },\n",
    "                                   \"region_attributes\": {}\n",
    "                                  }\n",
    "\n",
    "        dictionary = {\"file_ref\": '',\n",
    "                      \"size\": os.path.getsize(file_path),\n",
    "                      \"filename\": file.replace(\".tif\", \".png\"),\n",
    "                      \"base64_img_data\": '',\n",
    "                      \"file_attributes\": {},\n",
    "                      \"regions\": regions,\n",
    "                      \"origin_x\": originX,\n",
    "                      \"origin_y\": originY\n",
    "                     }\n",
    "\n",
    "        val_dict[file.replace(\".tif\", \".png\")] = dictionary\n",
    "\n",
    "with open(\"../NSO/val/nso.json\", \"w\") as f:\n",
    "    json.dump(val_dict, f)"
   ]
  },
  {
   "cell_type": "code",
   "execution_count": 51,
   "id": "6a964211",
   "metadata": {},
   "outputs": [],
   "source": [
    "# Create single via_region_data training dataset => can be skipped if only one .json file.=>But then change file name\n",
    "jsons = [\"../NSO/train/nso.json\"]\n",
    "\n",
    "result = {}\n",
    "for file in jsons:\n",
    "    with open(file, \"r\") as f:\n",
    "        loaded = json.load(f)\n",
    "        \n",
    "    #https://realpython.com/iterate-through-dictionary-python/\n",
    "    for key, value in loaded.items():\n",
    "        result[key] = value\n",
    "\n",
    "with open(\"../NSO/train/via_region_data.json\", \"w\") as file:\n",
    "    json.dump(result, file)"
   ]
  },
  {
   "cell_type": "code",
   "execution_count": 52,
   "id": "4426d33e",
   "metadata": {},
   "outputs": [
    {
     "name": "stdout",
     "output_type": "stream",
     "text": [
      "Done creating JSONs\n"
     ]
    }
   ],
   "source": [
    "# Create via_region JSON for entire validation dataset => can be skipped if only one .json file.=>But then change file name\n",
    "jsons = [\"../NSO/val/nso.json\"]\n",
    "\n",
    "result = {}\n",
    "for file in jsons:\n",
    "    with open(file, \"r\") as f:\n",
    "        loaded = json.load(f)\n",
    "    for key, value in loaded.items():\n",
    "        result[key] = value\n",
    "\n",
    "with open(\"../NSO/val/via_region_data.json\", \"w\") as file:\n",
    "    json.dump(result, file)\n",
    "\n",
    "print(\"Done creating JSONs\")\n"
   ]
  },
  {
   "cell_type": "code",
   "execution_count": null,
   "id": "575969c2",
   "metadata": {},
   "outputs": [],
   "source": [
    "# TODO: Do the same 2 cells when there is a test set"
   ]
  }
 ],
 "metadata": {
  "kernelspec": {
   "display_name": "Python 3 (ipykernel)",
   "language": "python",
   "name": "python3"
  },
  "language_info": {
   "codemirror_mode": {
    "name": "ipython",
    "version": 3
   },
   "file_extension": ".py",
   "mimetype": "text/x-python",
   "name": "python",
   "nbconvert_exporter": "python",
   "pygments_lexer": "ipython3",
   "version": "3.8.16"
  }
 },
 "nbformat": 4,
 "nbformat_minor": 5
}
