{
 "cells": [
  {
   "cell_type": "code",
   "execution_count": null,
   "metadata": {},
   "outputs": [],
   "source": [
    "'''\n",
    "This script is used to converts the wms urls of the the NSO imagery and\n",
    "convert them into ftp url's before  saving in a csv \n",
    "allowing the imagery to be downloaded using a bash script.\n",
    "'''"
   ]
  },
  {
   "cell_type": "code",
   "execution_count": 7,
   "metadata": {},
   "outputs": [],
   "source": [
    "import pandas as pd\n",
    "\n",
    "# Make a list of urls in url_file\n",
    "wms_url_file = pd.read_csv('wms_urls.csv')\n",
    "wms_url_list = wms_url_file['url'].tolist()"
   ]
  },
  {
   "cell_type": "code",
   "execution_count": 8,
   "metadata": {},
   "outputs": [],
   "source": [
    "def get_ftp_url(wms_url):\n",
    "    \"\"\"\n",
    "    Function to create ftp_url from wms_url\n",
    "    \"\"\"\n",
    "\n",
    "    # Split wms_url to components    \n",
    "    split_url = wms_url.split(\"/\")\n",
    "    tile_name = split_url[-2]\n",
    "    split_name = tile_name.split(\"_\")\n",
    "    tile_date = split_name[0]\n",
    "    year = tile_date[:4]\n",
    "    month = tile_date[4:6]\n",
    "    day = tile_date[6:]\n",
    "\n",
    "    # Create ftp_url by combining 3 string parts\n",
    "    ftp_url_p1 = 'ftp://ftp.satellietdataportaal.nl/Superview_1_4/SV_RD_8bit_RGB_50cm/'\n",
    "    ftp_url_p2 = year + \"/\" + year + \"_\" + month + \"/\" + year + month + day + \"/\" + tile_name\n",
    "    ftp_url_p3 = '.zip'\n",
    "    ftp_url = ftp_url_p1 + ftp_url_p2 + ftp_url_p3\n",
    "    \n",
    "    return ftp_url\n"
   ]
  },
  {
   "cell_type": "code",
   "execution_count": 13,
   "metadata": {},
   "outputs": [
    {
     "name": "stdout",
     "output_type": "stream",
     "text": [
      "['ftp://ftp.satellietdataportaal.nl/Superview_1_4/SV_RD_8bit_RGB_50cm/2022/2022_07/20220717/20220717_105004_SV2-01_SV_RD_8bit_RGB_50cm_Heerlen.zip', 'ftp://ftp.satellietdataportaal.nl/Superview_1_4/SV_RD_8bit_RGB_50cm/2022/2022_07/20220719/20220719_105243_SV1-04_SV_RD_8bit_RGB_50cm_Loppersum.zip', 'ftp://ftp.satellietdataportaal.nl/Superview_1_4/SV_RD_8bit_RGB_50cm/2022/2022_07/20220719/20220719_105242_SV1-04_SV_RD_8bit_RGB_50cm_Eemshaven.zip', 'ftp://ftp.satellietdataportaal.nl/Superview_1_4/SV_RD_8bit_RGB_50cm/2022/2022_10/20221009/20221009_111423_SV1-03_SV_RD_8bit_RGB_50cm_Rhoon.zip', 'ftp://ftp.satellietdataportaal.nl/Superview_1_4/SV_RD_8bit_RGB_50cm/2022/2022_07/20220730/20220730_110228_SV2-01_SV_RD_8bit_RGB_50cm_Ketelmeer.zip', 'ftp://ftp.satellietdataportaal.nl/Superview_1_4/SV_RD_8bit_RGB_50cm/2022/2022_09/20220903/20220903_111726_SV1-04_SV_RD_8bit_RGB_50cm_HoekVanHolland.zip', 'ftp://ftp.satellietdataportaal.nl/Superview_1_4/SV_RD_8bit_RGB_50cm/2022/2022_09/20220922/20220922_110553_SV2-01_SV_RD_8bit_RGB_50cm_Spijkenisse.zip', 'ftp://ftp.satellietdataportaal.nl/Superview_1_4/SV_RD_8bit_RGB_50cm/2022/2022_07/20220719/20220719_111420_SV1-03_SV_RD_8bit_RGB_50cm_Bloemendaal.zip', 'ftp://ftp.satellietdataportaal.nl/Superview_1_4/SV_RD_8bit_RGB_50cm/2022/2022_08/20220830/20220830_110404_SV1-03_SV_RD_8bit_RGB_50cm_Amsterdam.zip', 'ftp://ftp.satellietdataportaal.nl/Superview_1_4/SV_RD_8bit_RGB_50cm/2022/2022_07/20220718/20220718_101820_SV1-01_SV_RD_8bit_RGB_50cm_Oploo.zip', 'ftp://ftp.satellietdataportaal.nl/Superview_1_4/SV_RD_8bit_RGB_50cm/2022/2022_10/20221009/20221009_105642_SV1-04_SV_RD_8bit_RGB_50cm_Lunteren.zip', 'ftp://ftp.satellietdataportaal.nl/Superview_1_4/SV_RD_8bit_RGB_50cm/2022/2022_08/20220806/20220806_111133_SV1-03_SV_RD_8bit_RGB_50cm_Middelburg.zip', 'ftp://ftp.satellietdataportaal.nl/Superview_1_4/SV_RD_8bit_RGB_50cm/2022/2022_07/20220719/20220719_105318_SV1-04_SV_RD_8bit_RGB_50cm_Heel.zip', 'ftp://ftp.satellietdataportaal.nl/Superview_1_4/SV_RD_8bit_RGB_50cm/2022/2022_09/20220905/20220905_105531_SV2-01_SV_RD_8bit_RGB_50cm_Nuenen.zip', 'ftp://ftp.satellietdataportaal.nl/Superview_1_4/SV_RD_8bit_RGB_50cm/2022/2022_10/20221009/20221009_105653_SV1-04_SV_RD_8bit_RGB_50cm_Veldhoven.zip', 'ftp://ftp.satellietdataportaal.nl/Superview_1_4/SV_RD_8bit_RGB_50cm/2022/2022_10/20221009/20221009_105651_SV1-04_SV_RD_8bit_RGB_50cm_Best.zip', 'ftp://ftp.satellietdataportaal.nl/Superview_1_4/SV_RD_8bit_RGB_50cm/2022/2022_09/20220906/20220906_104605_SV1-03_SV_RD_8bit_RGB_50cm_Heerlen.zip', 'ftp://ftp.satellietdataportaal.nl/Superview_1_4/SV_RD_8bit_RGB_50cm/2022/2022_07/20220719/20220719_105318_SV1-04_SV_RD_8bit_RGB_50cm_Heel.zip', 'ftp://ftp.satellietdataportaal.nl/Superview_1_4/SV_RD_8bit_RGB_50cm/2022/2022_07/20220719/20220719_105318_SV1-04_SV_RD_8bit_RGB_50cm_Heel.zip', 'ftp://ftp.satellietdataportaal.nl/Superview_1_4/SV_RD_8bit_RGB_50cm/2022/2022_10/20221004/20221004_105601_SV2-01_SV_RD_8bit_RGB_50cm_Hunsel.zip', 'ftp://ftp.satellietdataportaal.nl/Superview_1_4/SV_RD_8bit_RGB_50cm/2022/2022_10/20221004/20221004_105601_SV2-01_SV_RD_8bit_RGB_50cm_Hunsel.zip', 'ftp://ftp.satellietdataportaal.nl/Superview_1_4/SV_RD_8bit_RGB_50cm/2022/2022_09/20220905/20220905_105531_SV2-01_SV_RD_8bit_RGB_50cm_Nuenen.zip', 'ftp://ftp.satellietdataportaal.nl/Superview_1_4/SV_RD_8bit_RGB_50cm/2022/2022_07/20220729/20220729_103928_SV2-01_SV_RD_8bit_RGB_50cm_Nuenen.zip', 'ftp://ftp.satellietdataportaal.nl/Superview_1_4/SV_RD_8bit_RGB_50cm/2022/2022_06/20220614/20220614_105852_SV1-03_SV_RD_8bit_RGB_50cm_Schaijk.zip', 'ftp://ftp.satellietdataportaal.nl/Superview_1_4/SV_RD_8bit_RGB_50cm/2022/2022_10/20221009/20221009_105649_SV1-04_SV_RD_8bit_RGB_50cm_Schijndel.zip', 'ftp://ftp.satellietdataportaal.nl/Superview_1_4/SV_RD_8bit_RGB_50cm/2022/2022_07/20220724/20220724_110844_SV1-04_SV_RD_8bit_RGB_50cm_Dongen.zip', 'ftp://ftp.satellietdataportaal.nl/Superview_1_4/SV_RD_8bit_RGB_50cm/2022/2022_07/20220717/20220717_103405_SV1-01_SV_RD_8bit_RGB_50cm_Made.zip', 'ftp://ftp.satellietdataportaal.nl/Superview_1_4/SV_RD_8bit_RGB_50cm/2022/2022_10/20221012/20221012_104910_SV2-01_SV_RD_8bit_RGB_50cm_Fijnaart.zip', 'ftp://ftp.satellietdataportaal.nl/Superview_1_4/SV_RD_8bit_RGB_50cm/2022/2022_08/20220803/20220803_105917_SV2-01_SV_RD_8bit_RGB_50cm_OudGastel.zip', 'ftp://ftp.satellietdataportaal.nl/Superview_1_4/SV_RD_8bit_RGB_50cm/2022/2022_08/20220811/20220811_110743_SV1-04_SV_RD_8bit_RGB_50cm_EttenLeur.zip', 'ftp://ftp.satellietdataportaal.nl/Superview_1_4/SV_RD_8bit_RGB_50cm/2022/2022_05/20220515/20220515_113359_SV1-02_SV_RD_8bit_RGB_50cm_Kloosterzande.zip', 'ftp://ftp.satellietdataportaal.nl/Superview_1_4/SV_RD_8bit_RGB_50cm/2022/2022_07/20220717/20220717_104955_SV2-01_SV_RD_8bit_RGB_50cm_Venlo.zip', 'ftp://ftp.satellietdataportaal.nl/Superview_1_4/SV_RD_8bit_RGB_50cm/2022/2022_09/20220906/20220906_104556_SV1-03_SV_RD_8bit_RGB_50cm_Venlo.zip', 'ftp://ftp.satellietdataportaal.nl/Superview_1_4/SV_RD_8bit_RGB_50cm/2022/2022_07/20220719/20220719_105317_SV1-04_SV_RD_8bit_RGB_50cm_Helden.zip', 'ftp://ftp.satellietdataportaal.nl/Superview_1_4/SV_RD_8bit_RGB_50cm/2022/2022_10/20221004/20221004_105553_SV2-01_SV_RD_8bit_RGB_50cm_Gennep.zip', 'ftp://ftp.satellietdataportaal.nl/Superview_1_4/SV_RD_8bit_RGB_50cm/2022/2022_07/20220714/20220714_105920_SV1-03_SV_RD_8bit_RGB_50cm_Oploo.zip', 'ftp://ftp.satellietdataportaal.nl/Superview_1_4/SV_RD_8bit_RGB_50cm/2022/2022_11/20221110/20221110_104809_SV2-01_SV_RD_8bit_RGB_50cm_Arcen.zip']\n"
     ]
    }
   ],
   "source": [
    "#Retrieve ftp_url for each wms_url in list\n",
    "ftp_url_list = []\n",
    "\n",
    "for wms_url in wms_url_list:\n",
    "    ftp_url = get_ftp_url(wms_url)\n",
    "    ftp_url_list.append(ftp_url)\n",
    "print(ftp_url_list)\n",
    "\n",
    "# save ftp url list as csv file\n",
    "ftp_url_file = pd.DataFrame(ftp_url_list ,columns=['url'])\n",
    "ftp_url_file.to_csv('ftp_urls.csv', index=False)"
   ]
  },
  {
   "cell_type": "code",
   "execution_count": null,
   "metadata": {},
   "outputs": [],
   "source": []
  }
 ],
 "metadata": {
  "kernelspec": {
   "display_name": "py38_cisi",
   "language": "python",
   "name": "python3"
  },
  "language_info": {
   "codemirror_mode": {
    "name": "ipython",
    "version": 3
   },
   "file_extension": ".py",
   "mimetype": "text/x-python",
   "name": "python",
   "nbconvert_exporter": "python",
   "pygments_lexer": "ipython3",
   "version": "3.8.2"
  },
  "orig_nbformat": 4
 },
 "nbformat": 4,
 "nbformat_minor": 2
}
